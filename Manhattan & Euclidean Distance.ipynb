{
 "cells": [
  {
   "cell_type": "code",
   "execution_count": 6,
   "id": "aaf4233e",
   "metadata": {},
   "outputs": [
    {
     "name": "stdout",
     "output_type": "stream",
     "text": [
      "           x1        x2\n",
      "0    0.195862  1.270151\n",
      "1    1.378727  0.131296\n",
      "2    1.252930 -0.321992\n",
      "3    1.331717 -0.080226\n",
      "4    0.408563  1.445537\n",
      "..        ...       ...\n",
      "395  0.703955 -0.905775\n",
      "396  0.334583  1.394056\n",
      "397 -1.701716 -0.569091\n",
      "398  2.642809  1.144779\n",
      "399 -0.254568 -0.141992\n",
      "\n",
      "[400 rows x 2 columns]\n"
     ]
    }
   ],
   "source": [
    "import pandas as pd\n",
    "import numpy as np\n",
    "import matplotlib.pyplot as plt\n",
    "from ipywidgets import interactive,widgets\n",
    "\n",
    "file_path = 'banana.ldt'\n",
    "column_names = ['x1','x2'] \n",
    "# Read into a DataFrame\n",
    "cord = pd.read_csv(file_path, sep='  ', names=column_names, skiprows=1,usecols=[0,1],engine = 'python')\n",
    "x1 = np.array(cord.x1)\n",
    "x2 = np.array(cord.x2)\n",
    "# Data confirmation (x1,x2)\n",
    "print(cord)"
   ]
  },
  {
   "cell_type": "code",
   "execution_count": 31,
   "id": "0a9fa036",
   "metadata": {},
   "outputs": [
    {
     "data": {
      "image/png": "[encoded data removed]",
      "text/plain": [
       "<Figure size 1080x576 with 1 Axes>"
      ]
     },
     "metadata": {
      "needs_background": "light"
     },
     "output_type": "display_data"
    }
   ],
   "source": [
    "# CALCULATIONS\n",
    "x1 = np.array(cord.x1)\n",
    "x2 = np.array(cord.x2)\n",
    "\n",
    "def Euclidean(x,y):\n",
    "    base1 = x[1]\n",
    "    base2 = y[1]\n",
    "    X = [base1 - value for index, value in enumerate(x) if index != 1]\n",
    "    Y = [base2 - value for index, value in enumerate(y) if index != 1]\n",
    "    X = np.array(X)**2\n",
    "    Y = np.array(Y)**2\n",
    "    Dist = [np.sqrt(a+b) for a,b in zip(X ,Y)]\n",
    "    return Dist\n",
    "def Manhattan(x,y):\n",
    "    base1 = x[1]\n",
    "    base2 = y[1]\n",
    "    X = [base1 - value for index, value in enumerate(x) if index != 1]\n",
    "    Y = [base2 - value for index, value in enumerate(y) if index != 1]\n",
    "    X = np.array(X)\n",
    "    Y = np.array(Y)\n",
    "    Dist = [(np.absolute(a)+np.absolute(b)) for a,b in zip(X ,Y)]\n",
    "    return Dist\n",
    "EU = Euclidean(x1,x2)\n",
    "MAN = Manhattan(x1,x2)\n",
    "DIFF = [np.absolute(a-b) for a,b in zip(EU,MAN) ]\n",
    "Result = pd.DataFrame({'Manhattan': MAN,'Euclidean': EU})\n",
    "def plot(X,l):\n",
    "    x=np.linspace(1,l,l-1)\n",
    "    plt.figure(figsize=(15, 8))\n",
    "    plt.scatter(x,X,color='blue')\n",
    "    #plt.scatter(x,Y,color='red')\n",
    "    plt.title('Sigmoid Function')\n",
    "    plt.axhline(0, color='black', linestyle='--', linewidth=0.5)\n",
    "    plt.axvline(0, color='black', linestyle='--', linewidth=0.5)\n",
    "    plt.xlabel('x')\n",
    "    plt.ylabel('y')\n",
    "    plt.grid(True)\n",
    "    plt.show()\n",
    "A = max(DIFF)\n",
    "ind = DIFF.index(A)\n",
    "A = [EU[269],MAN[269]]\n",
    "plot(A,3)\n",
    "#print(ind)"
   ]
  },
  {
   "cell_type": "code",
   "execution_count": 32,
   "id": "512d3718",
   "metadata": {},
   "outputs": [],
   "source": [
    "Result.Manhattan.to_csv('Manhattan.csv', index=False,header=False)\n",
    "Result.Euclidean.to_csv('Euclidean.csv', index=False,header=False)\n"
   ]
  }
 ],
 "metadata": {
  "kernelspec": {
   "display_name": "Python 3 (ipykernel)",
   "language": "python",
   "name": "python3"
  },
  "language_info": {
   "codemirror_mode": {
    "name": "ipython",
    "version": 3
   },
   "file_extension": ".py",
   "mimetype": "text/x-python",
   "name": "python",
   "nbconvert_exporter": "python",
   "pygments_lexer": "ipython3",
   "version": "3.9.7"
  }
 },
 "nbformat": 4,
 "nbformat_minor": 5
}
